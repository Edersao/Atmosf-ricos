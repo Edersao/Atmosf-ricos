{
  "nbformat": 4,
  "nbformat_minor": 0,
  "metadata": {
    "colab": {
      "provenance": [],
      "include_colab_link": true
    },
    "kernelspec": {
      "name": "python3",
      "display_name": "Python 3"
    },
    "language_info": {
      "name": "python"
    }
  },
  "cells": [
    {
      "cell_type": "markdown",
      "metadata": {
        "id": "view-in-github",
        "colab_type": "text"
      },
      "source": [
        "<a href=\"https://colab.research.google.com/github/Edersao/Atmosf-ricos/blob/main/Precipitaci%C3%B3n.ipynb\" target=\"_parent\"><img src=\"https://colab.research.google.com/assets/colab-badge.svg\" alt=\"Open In Colab\"/></a>"
      ]
    },
    {
      "cell_type": "code",
      "execution_count": null,
      "metadata": {
        "colab": {
          "base_uri": "https://localhost:8080/"
        },
        "id": "Vz2lh0xnquGR",
        "outputId": "74d4f08a-a5e9-43a1-ff50-3f623d048547"
      },
      "outputs": [
        {
          "output_type": "stream",
          "name": "stdout",
          "text": [
            "Mounted at /content/drive\n"
          ]
        }
      ],
      "source": [
        "from google.colab import drive\n",
        "drive.mount('/content/drive')"
      ]
    },
    {
      "cell_type": "code",
      "source": [
        "!pip install netCDF4\n",
        "!pip install basemap\n",
        "!pip install datetime"
      ],
      "metadata": {
        "colab": {
          "base_uri": "https://localhost:8080/",
          "height": 842
        },
        "id": "tp1HBjXew9t4",
        "outputId": "49525a4b-19a0-4a2f-bec6-ca7e66faa749"
      },
      "execution_count": null,
      "outputs": [
        {
          "output_type": "stream",
          "name": "stdout",
          "text": [
            "Collecting netCDF4\n",
            "  Downloading netCDF4-1.6.5-cp310-cp310-manylinux_2_17_x86_64.manylinux2014_x86_64.whl (5.5 MB)\n",
            "\u001b[2K     \u001b[90m━━━━━━━━━━━━━━━━━━━━━━━━━━━━━━━━━━━━━━━━\u001b[0m \u001b[32m5.5/5.5 MB\u001b[0m \u001b[31m40.7 MB/s\u001b[0m eta \u001b[36m0:00:00\u001b[0m\n",
            "\u001b[?25hCollecting cftime (from netCDF4)\n",
            "  Downloading cftime-1.6.3-cp310-cp310-manylinux_2_17_x86_64.manylinux2014_x86_64.whl (1.3 MB)\n",
            "\u001b[2K     \u001b[90m━━━━━━━━━━━━━━━━━━━━━━━━━━━━━━━━━━━━━━━━\u001b[0m \u001b[32m1.3/1.3 MB\u001b[0m \u001b[31m69.2 MB/s\u001b[0m eta \u001b[36m0:00:00\u001b[0m\n",
            "\u001b[?25hRequirement already satisfied: certifi in /usr/local/lib/python3.10/dist-packages (from netCDF4) (2023.7.22)\n",
            "Requirement already satisfied: numpy in /usr/local/lib/python3.10/dist-packages (from netCDF4) (1.23.5)\n",
            "Installing collected packages: cftime, netCDF4\n",
            "Successfully installed cftime-1.6.3 netCDF4-1.6.5\n",
            "Collecting basemap\n",
            "  Downloading basemap-1.3.8-cp310-cp310-manylinux1_x86_64.whl (860 kB)\n",
            "\u001b[2K     \u001b[90m━━━━━━━━━━━━━━━━━━━━━━━━━━━━━━━━━━━━━━━━\u001b[0m \u001b[32m860.7/860.7 kB\u001b[0m \u001b[31m6.9 MB/s\u001b[0m eta \u001b[36m0:00:00\u001b[0m\n",
            "\u001b[?25hCollecting basemap-data<1.4,>=1.3.2 (from basemap)\n",
            "  Downloading basemap_data-1.3.2-py2.py3-none-any.whl (30.5 MB)\n",
            "\u001b[2K     \u001b[90m━━━━━━━━━━━━━━━━━━━━━━━━━━━━━━━━━━━━━━━━\u001b[0m \u001b[32m30.5/30.5 MB\u001b[0m \u001b[31m37.8 MB/s\u001b[0m eta \u001b[36m0:00:00\u001b[0m\n",
            "\u001b[?25hRequirement already satisfied: pyshp<2.4,>=1.2 in /usr/local/lib/python3.10/dist-packages (from basemap) (2.3.1)\n",
            "Requirement already satisfied: matplotlib<3.8,>=1.5 in /usr/local/lib/python3.10/dist-packages (from basemap) (3.7.1)\n",
            "Requirement already satisfied: pyproj<3.7.0,>=1.9.3 in /usr/local/lib/python3.10/dist-packages (from basemap) (3.6.1)\n",
            "Requirement already satisfied: numpy<1.26,>=1.21 in /usr/local/lib/python3.10/dist-packages (from basemap) (1.23.5)\n",
            "Requirement already satisfied: contourpy>=1.0.1 in /usr/local/lib/python3.10/dist-packages (from matplotlib<3.8,>=1.5->basemap) (1.2.0)\n",
            "Requirement already satisfied: cycler>=0.10 in /usr/local/lib/python3.10/dist-packages (from matplotlib<3.8,>=1.5->basemap) (0.12.1)\n",
            "Requirement already satisfied: fonttools>=4.22.0 in /usr/local/lib/python3.10/dist-packages (from matplotlib<3.8,>=1.5->basemap) (4.44.3)\n",
            "Requirement already satisfied: kiwisolver>=1.0.1 in /usr/local/lib/python3.10/dist-packages (from matplotlib<3.8,>=1.5->basemap) (1.4.5)\n",
            "Requirement already satisfied: packaging>=20.0 in /usr/local/lib/python3.10/dist-packages (from matplotlib<3.8,>=1.5->basemap) (23.2)\n",
            "Requirement already satisfied: pillow>=6.2.0 in /usr/local/lib/python3.10/dist-packages (from matplotlib<3.8,>=1.5->basemap) (9.4.0)\n",
            "Requirement already satisfied: pyparsing>=2.3.1 in /usr/local/lib/python3.10/dist-packages (from matplotlib<3.8,>=1.5->basemap) (3.1.1)\n",
            "Requirement already satisfied: python-dateutil>=2.7 in /usr/local/lib/python3.10/dist-packages (from matplotlib<3.8,>=1.5->basemap) (2.8.2)\n",
            "Requirement already satisfied: certifi in /usr/local/lib/python3.10/dist-packages (from pyproj<3.7.0,>=1.9.3->basemap) (2023.7.22)\n",
            "Requirement already satisfied: six>=1.5 in /usr/local/lib/python3.10/dist-packages (from python-dateutil>=2.7->matplotlib<3.8,>=1.5->basemap) (1.16.0)\n",
            "Installing collected packages: basemap-data, basemap\n",
            "Successfully installed basemap-1.3.8 basemap-data-1.3.2\n"
          ]
        },
        {
          "output_type": "display_data",
          "data": {
            "application/vnd.colab-display-data+json": {
              "pip_warning": {
                "packages": [
                  "mpl_toolkits"
                ]
              }
            }
          },
          "metadata": {}
        },
        {
          "output_type": "stream",
          "name": "stdout",
          "text": [
            "Collecting datetime\n",
            "  Downloading DateTime-5.3-py3-none-any.whl (52 kB)\n",
            "\u001b[2K     \u001b[90m━━━━━━━━━━━━━━━━━━━━━━━━━━━━━━━━━━━━━━━━\u001b[0m \u001b[32m52.2/52.2 kB\u001b[0m \u001b[31m1.4 MB/s\u001b[0m eta \u001b[36m0:00:00\u001b[0m\n",
            "\u001b[?25hCollecting zope.interface (from datetime)\n",
            "  Downloading zope.interface-6.1-cp310-cp310-manylinux_2_5_x86_64.manylinux1_x86_64.manylinux_2_17_x86_64.manylinux2014_x86_64.whl (247 kB)\n",
            "\u001b[2K     \u001b[90m━━━━━━━━━━━━━━━━━━━━━━━━━━━━━━━━━━━━━━━━\u001b[0m \u001b[32m247.1/247.1 kB\u001b[0m \u001b[31m7.6 MB/s\u001b[0m eta \u001b[36m0:00:00\u001b[0m\n",
            "\u001b[?25hRequirement already satisfied: pytz in /usr/local/lib/python3.10/dist-packages (from datetime) (2023.3.post1)\n",
            "Requirement already satisfied: setuptools in /usr/local/lib/python3.10/dist-packages (from zope.interface->datetime) (67.7.2)\n",
            "Installing collected packages: zope.interface, datetime\n",
            "Successfully installed datetime-5.3 zope.interface-6.1\n"
          ]
        }
      ]
    },
    {
      "cell_type": "code",
      "source": [
        "from netCDF4 import Dataset\n",
        "import datetime as dt  # Incluiremos la librería datetime\n",
        "import numpy as np\n",
        "from netCDF4 import Dataset  # http://code.google.com/p/netcdf4-python/\n",
        "import matplotlib.pyplot as plt\n",
        "import matplotlib as pl\n",
        "%matplotlib inline\n",
        "from mpl_toolkits.basemap import Basemap, addcyclic, shiftgrid"
      ],
      "metadata": {
        "id": "F07EkVBmxAhW"
      },
      "execution_count": null,
      "outputs": []
    },
    {
      "cell_type": "markdown",
      "source": [
        "## **Leer datos**"
      ],
      "metadata": {
        "id": "DeN1VlRhxJOW"
      }
    },
    {
      "cell_type": "code",
      "source": [
        "arc_prec01 = '/content/drive/MyDrive/atmos/datos/Ixil/Ixil/Precipitacion/g4.timeAvgMap.TRMM_3B42_Daily_7_precipitation.20120101-20120131.90W_18N_86W_22N.nc'\n",
        "prec201201 = Dataset(arc_prec01)\n",
        "\n",
        "arc_prec08 = '/content/drive/MyDrive/atmos/datos/Ixil/Ixil/Precipitacion/g4.timeAvgMap.TRMM_3B42_Daily_7_precipitation.20120801-20120831.90W_18N_86W_22N.nc'\n",
        "prec201208 = Dataset(arc_prec08)\n",
        "\n",
        "prec201201.variables.keys()\n",
        "prec201201.ncattrs()"
      ],
      "metadata": {
        "colab": {
          "base_uri": "https://localhost:8080/"
        },
        "id": "FpAJSRtFxF2m",
        "outputId": "8ed1aaf9-f02e-4479-af3c-7b48007cb853"
      },
      "execution_count": null,
      "outputs": [
        {
          "output_type": "execute_result",
          "data": {
            "text/plain": [
              "['NCO',\n",
              " 'nco_openmp_thread_number',\n",
              " 'Conventions',\n",
              " 'start_time',\n",
              " 'end_time',\n",
              " 'history',\n",
              " 'userstartdate',\n",
              " 'userenddate',\n",
              " 'title',\n",
              " 'plot_hint_title',\n",
              " 'plot_hint_subtitle',\n",
              " 'plot_hint_caption']"
            ]
          },
          "metadata": {},
          "execution_count": 10
        }
      ]
    },
    {
      "cell_type": "code",
      "source": [
        "prec201201.getncattr('start_time')\n",
        "prec201201.getncattr('end_time')"
      ],
      "metadata": {
        "colab": {
          "base_uri": "https://localhost:8080/",
          "height": 36
        },
        "id": "xZ4H6bF94qX7",
        "outputId": "542d1330-b2b3-4672-cc07-a80de31ff3ce"
      },
      "execution_count": null,
      "outputs": [
        {
          "output_type": "execute_result",
          "data": {
            "text/plain": [
              "'2012-02-01T01:29:59Z'"
            ],
            "application/vnd.google.colaboratory.intrinsic+json": {
              "type": "string"
            }
          },
          "metadata": {},
          "execution_count": 13
        }
      ]
    },
    {
      "cell_type": "code",
      "source": [
        "lat = prec201201.variables['lat'][:]\n",
        "lon = prec201201.variables['lon'][:]\n",
        "preci01 = prec201201.variables['TRMM_3B42_Daily_7_precipitation']"
      ],
      "metadata": {
        "id": "Qz8O3GKCxZCw"
      },
      "execution_count": null,
      "outputs": []
    },
    {
      "cell_type": "code",
      "source": [
        "lat_inf = lat[0]\n",
        "print(lat_inf)\n",
        "lat_sup = lat[14]\n",
        "print(lat_sup)\n",
        "lon_inf = lon[0]\n",
        "print(lon_inf)\n",
        "lon_sup = lon[14]\n",
        "print(lon_sup)"
      ],
      "metadata": {
        "id": "ckI2hnQfxZnw"
      },
      "execution_count": null,
      "outputs": []
    },
    {
      "cell_type": "markdown",
      "source": [
        "## **GRAFICAR**"
      ],
      "metadata": {
        "id": "8qwSpZcEx39J"
      }
    },
    {
      "cell_type": "code",
      "source": [
        "data_prec = preci08[:]\n",
        "unidad = preci08.getncattr('units')\n",
        "ix_lat = 21.1522\n",
        "ix_lon = -89.4822\n",
        "\n",
        "m = Basemap(projection='merc',llcrnrlat=18.375,urcrnrlat=21.875,\\\n",
        "            llcrnrlon=-90.375,urcrnrlon=-86.875,lat_ts=10,resolution = 'i')\n",
        "m.drawcoastlines()\n",
        "my_cmap=plt.cm.get_cmap('gist_rainbow')\n",
        "my_cmap.set_under('w')\n",
        "x0, y0 = m(ix_lon, ix_lat)\n",
        "x, y = m(lon, lat)\n",
        "m.plot(x0, y0, 'ok', markersize=5,color='w')\n",
        "m.pcolormesh(x,y, data_prec)\n",
        "cb = m.colorbar()\n",
        "cb.set_label(unidad)\n",
        "plt.text(x0, y0, ' Ixil', fontsize=12, color='w');\n",
        "plt.title(prec201208.getncattr('plot_hint_title'))"
      ],
      "metadata": {
        "id": "gFn4oGRGxeR-"
      },
      "execution_count": null,
      "outputs": []
    },
    {
      "cell_type": "markdown",
      "source": [
        "## Leer todos los datos automáticamente y guardar la información"
      ],
      "metadata": {
        "id": "kXL7L1U-1Kma"
      }
    },
    {
      "cell_type": "code",
      "source": [
        "from datetime import datetime, timedelta\n",
        "import os\n",
        "from netCDF4 import Dataset\n",
        "import numpy as np\n",
        "import glob\n",
        "import csv\n",
        "import pandas as pd\n",
        "\n",
        "#df_ixil = pd.DataFrame(columns=['Fecha', 'Precipitacion_promedio'])\n",
        "os.chdir(\"/content/drive/MyDrive/atmos/datos/Ixil/Ixil/Precipitacion\")\n",
        "archivos = sorted(glob.glob('g4.timeAvgMap.TRMM_3B42_Daily_7_precipitation*.nc'))\n",
        "\n",
        "key_error = []\n",
        "os_error = []\n",
        "runtime_error = []\n",
        "\n",
        "idx = pd.DatetimeIndex([\"\"])\n",
        "df_ixil=pd.DataFrame(columns=['Precipitacion_promedio'],index=idx)"
      ],
      "metadata": {
        "id": "OldjePhI1U1E"
      },
      "execution_count": null,
      "outputs": []
    },
    {
      "cell_type": "markdown",
      "source": [
        "Creamos dataframe donde se van a guardar los datos"
      ],
      "metadata": {
        "id": "pIzIAu6p-klw"
      }
    },
    {
      "cell_type": "code",
      "source": [
        "df_ixil\n",
        "\n",
        "#new_row = {\"a\": 10, \"b\": 10}\n",
        "#df2 = df.append(new_row, ignore_index=True)\n",
        "\n",
        "#from datetime import date\n",
        "#date(2002, 12, 4).isoformat()"
      ],
      "metadata": {
        "id": "ecjaujPO_uiS",
        "colab": {
          "base_uri": "https://localhost:8080/",
          "height": 81
        },
        "outputId": "062f37f1-280b-4522-e474-7db759b45025"
      },
      "execution_count": null,
      "outputs": [
        {
          "output_type": "execute_result",
          "data": {
            "text/plain": [
              "    Precipitacion_promedio\n",
              "NaT                    NaN"
            ],
            "text/html": [
              "\n",
              "  <div id=\"df-8526bac7-ce68-4255-95d5-c9e3aa6cdd5e\" class=\"colab-df-container\">\n",
              "    <div>\n",
              "<style scoped>\n",
              "    .dataframe tbody tr th:only-of-type {\n",
              "        vertical-align: middle;\n",
              "    }\n",
              "\n",
              "    .dataframe tbody tr th {\n",
              "        vertical-align: top;\n",
              "    }\n",
              "\n",
              "    .dataframe thead th {\n",
              "        text-align: right;\n",
              "    }\n",
              "</style>\n",
              "<table border=\"1\" class=\"dataframe\">\n",
              "  <thead>\n",
              "    <tr style=\"text-align: right;\">\n",
              "      <th></th>\n",
              "      <th>Precipitacion_promedio</th>\n",
              "    </tr>\n",
              "  </thead>\n",
              "  <tbody>\n",
              "    <tr>\n",
              "      <th>NaT</th>\n",
              "      <td>NaN</td>\n",
              "    </tr>\n",
              "  </tbody>\n",
              "</table>\n",
              "</div>\n",
              "    <div class=\"colab-df-buttons\">\n",
              "\n",
              "  <div class=\"colab-df-container\">\n",
              "    <button class=\"colab-df-convert\" onclick=\"convertToInteractive('df-8526bac7-ce68-4255-95d5-c9e3aa6cdd5e')\"\n",
              "            title=\"Convert this dataframe to an interactive table.\"\n",
              "            style=\"display:none;\">\n",
              "\n",
              "  <svg xmlns=\"http://www.w3.org/2000/svg\" height=\"24px\" viewBox=\"0 -960 960 960\">\n",
              "    <path d=\"M120-120v-720h720v720H120Zm60-500h600v-160H180v160Zm220 220h160v-160H400v160Zm0 220h160v-160H400v160ZM180-400h160v-160H180v160Zm440 0h160v-160H620v160ZM180-180h160v-160H180v160Zm440 0h160v-160H620v160Z\"/>\n",
              "  </svg>\n",
              "    </button>\n",
              "\n",
              "  <style>\n",
              "    .colab-df-container {\n",
              "      display:flex;\n",
              "      gap: 12px;\n",
              "    }\n",
              "\n",
              "    .colab-df-convert {\n",
              "      background-color: #E8F0FE;\n",
              "      border: none;\n",
              "      border-radius: 50%;\n",
              "      cursor: pointer;\n",
              "      display: none;\n",
              "      fill: #1967D2;\n",
              "      height: 32px;\n",
              "      padding: 0 0 0 0;\n",
              "      width: 32px;\n",
              "    }\n",
              "\n",
              "    .colab-df-convert:hover {\n",
              "      background-color: #E2EBFA;\n",
              "      box-shadow: 0px 1px 2px rgba(60, 64, 67, 0.3), 0px 1px 3px 1px rgba(60, 64, 67, 0.15);\n",
              "      fill: #174EA6;\n",
              "    }\n",
              "\n",
              "    .colab-df-buttons div {\n",
              "      margin-bottom: 4px;\n",
              "    }\n",
              "\n",
              "    [theme=dark] .colab-df-convert {\n",
              "      background-color: #3B4455;\n",
              "      fill: #D2E3FC;\n",
              "    }\n",
              "\n",
              "    [theme=dark] .colab-df-convert:hover {\n",
              "      background-color: #434B5C;\n",
              "      box-shadow: 0px 1px 3px 1px rgba(0, 0, 0, 0.15);\n",
              "      filter: drop-shadow(0px 1px 2px rgba(0, 0, 0, 0.3));\n",
              "      fill: #FFFFFF;\n",
              "    }\n",
              "  </style>\n",
              "\n",
              "    <script>\n",
              "      const buttonEl =\n",
              "        document.querySelector('#df-8526bac7-ce68-4255-95d5-c9e3aa6cdd5e button.colab-df-convert');\n",
              "      buttonEl.style.display =\n",
              "        google.colab.kernel.accessAllowed ? 'block' : 'none';\n",
              "\n",
              "      async function convertToInteractive(key) {\n",
              "        const element = document.querySelector('#df-8526bac7-ce68-4255-95d5-c9e3aa6cdd5e');\n",
              "        const dataTable =\n",
              "          await google.colab.kernel.invokeFunction('convertToInteractive',\n",
              "                                                    [key], {});\n",
              "        if (!dataTable) return;\n",
              "\n",
              "        const docLinkHtml = 'Like what you see? Visit the ' +\n",
              "          '<a target=\"_blank\" href=https://colab.research.google.com/notebooks/data_table.ipynb>data table notebook</a>'\n",
              "          + ' to learn more about interactive tables.';\n",
              "        element.innerHTML = '';\n",
              "        dataTable['output_type'] = 'display_data';\n",
              "        await google.colab.output.renderOutput(dataTable, element);\n",
              "        const docLink = document.createElement('div');\n",
              "        docLink.innerHTML = docLinkHtml;\n",
              "        element.appendChild(docLink);\n",
              "      }\n",
              "    </script>\n",
              "  </div>\n",
              "\n",
              "    </div>\n",
              "  </div>\n"
            ]
          },
          "metadata": {},
          "execution_count": 8
        }
      ]
    },
    {
      "cell_type": "code",
      "source": [
        "for arch in archivos:\n",
        "    try:\n",
        "        print(arch)\n",
        "        data = Dataset(arch)\n",
        "        fecha = datetime.strptime(data.getncattr('start_time'), '%Y-%m-%dT%H:%M:%SZ')\n",
        "        date_formatted = datetime.strftime(fecha,'%d %b %Y')\n",
        "        avg_prec = data.variables['TRMM_3B42_Daily_7_precipitation']\n",
        "        new_row = {\"Fecha\": date_formatted, \"Precipitacion_promedio\": avg_prec}\n",
        "        df1=pd.DataFrame(({\"Precipitacion_promedio\": avg_prec}),index=pd.DatetimeIndex([date_formatted]))\n",
        "        df_ixil.append(df1)\n",
        "    except KeyError:\n",
        "        key_error.append(arch)\n",
        "    except OSError:\n",
        "        os_error.append(arch)\n",
        "    except RuntimeError:\n",
        "        runtime_error.append(arch)"
      ],
      "metadata": {
        "id": "FZuPiQpM6RxA"
      },
      "execution_count": null,
      "outputs": []
    },
    {
      "cell_type": "code",
      "source": [
        "df_ixil"
      ],
      "metadata": {
        "colab": {
          "base_uri": "https://localhost:8080/",
          "height": 81
        },
        "id": "QVXbUw9u8IdR",
        "outputId": "fedeac4a-feb1-4274-d954-4cd56d5d3187"
      },
      "execution_count": null,
      "outputs": [
        {
          "output_type": "execute_result",
          "data": {
            "text/plain": [
              "    Precipitacion_promedio\n",
              "NaT                    NaN"
            ],
            "text/html": [
              "\n",
              "  <div id=\"df-f59115e9-ee7c-44e5-bc1c-88047d3ca8df\" class=\"colab-df-container\">\n",
              "    <div>\n",
              "<style scoped>\n",
              "    .dataframe tbody tr th:only-of-type {\n",
              "        vertical-align: middle;\n",
              "    }\n",
              "\n",
              "    .dataframe tbody tr th {\n",
              "        vertical-align: top;\n",
              "    }\n",
              "\n",
              "    .dataframe thead th {\n",
              "        text-align: right;\n",
              "    }\n",
              "</style>\n",
              "<table border=\"1\" class=\"dataframe\">\n",
              "  <thead>\n",
              "    <tr style=\"text-align: right;\">\n",
              "      <th></th>\n",
              "      <th>Precipitacion_promedio</th>\n",
              "    </tr>\n",
              "  </thead>\n",
              "  <tbody>\n",
              "    <tr>\n",
              "      <th>NaT</th>\n",
              "      <td>NaN</td>\n",
              "    </tr>\n",
              "  </tbody>\n",
              "</table>\n",
              "</div>\n",
              "    <div class=\"colab-df-buttons\">\n",
              "\n",
              "  <div class=\"colab-df-container\">\n",
              "    <button class=\"colab-df-convert\" onclick=\"convertToInteractive('df-f59115e9-ee7c-44e5-bc1c-88047d3ca8df')\"\n",
              "            title=\"Convert this dataframe to an interactive table.\"\n",
              "            style=\"display:none;\">\n",
              "\n",
              "  <svg xmlns=\"http://www.w3.org/2000/svg\" height=\"24px\" viewBox=\"0 -960 960 960\">\n",
              "    <path d=\"M120-120v-720h720v720H120Zm60-500h600v-160H180v160Zm220 220h160v-160H400v160Zm0 220h160v-160H400v160ZM180-400h160v-160H180v160Zm440 0h160v-160H620v160ZM180-180h160v-160H180v160Zm440 0h160v-160H620v160Z\"/>\n",
              "  </svg>\n",
              "    </button>\n",
              "\n",
              "  <style>\n",
              "    .colab-df-container {\n",
              "      display:flex;\n",
              "      gap: 12px;\n",
              "    }\n",
              "\n",
              "    .colab-df-convert {\n",
              "      background-color: #E8F0FE;\n",
              "      border: none;\n",
              "      border-radius: 50%;\n",
              "      cursor: pointer;\n",
              "      display: none;\n",
              "      fill: #1967D2;\n",
              "      height: 32px;\n",
              "      padding: 0 0 0 0;\n",
              "      width: 32px;\n",
              "    }\n",
              "\n",
              "    .colab-df-convert:hover {\n",
              "      background-color: #E2EBFA;\n",
              "      box-shadow: 0px 1px 2px rgba(60, 64, 67, 0.3), 0px 1px 3px 1px rgba(60, 64, 67, 0.15);\n",
              "      fill: #174EA6;\n",
              "    }\n",
              "\n",
              "    .colab-df-buttons div {\n",
              "      margin-bottom: 4px;\n",
              "    }\n",
              "\n",
              "    [theme=dark] .colab-df-convert {\n",
              "      background-color: #3B4455;\n",
              "      fill: #D2E3FC;\n",
              "    }\n",
              "\n",
              "    [theme=dark] .colab-df-convert:hover {\n",
              "      background-color: #434B5C;\n",
              "      box-shadow: 0px 1px 3px 1px rgba(0, 0, 0, 0.15);\n",
              "      filter: drop-shadow(0px 1px 2px rgba(0, 0, 0, 0.3));\n",
              "      fill: #FFFFFF;\n",
              "    }\n",
              "  </style>\n",
              "\n",
              "    <script>\n",
              "      const buttonEl =\n",
              "        document.querySelector('#df-f59115e9-ee7c-44e5-bc1c-88047d3ca8df button.colab-df-convert');\n",
              "      buttonEl.style.display =\n",
              "        google.colab.kernel.accessAllowed ? 'block' : 'none';\n",
              "\n",
              "      async function convertToInteractive(key) {\n",
              "        const element = document.querySelector('#df-f59115e9-ee7c-44e5-bc1c-88047d3ca8df');\n",
              "        const dataTable =\n",
              "          await google.colab.kernel.invokeFunction('convertToInteractive',\n",
              "                                                    [key], {});\n",
              "        if (!dataTable) return;\n",
              "\n",
              "        const docLinkHtml = 'Like what you see? Visit the ' +\n",
              "          '<a target=\"_blank\" href=https://colab.research.google.com/notebooks/data_table.ipynb>data table notebook</a>'\n",
              "          + ' to learn more about interactive tables.';\n",
              "        element.innerHTML = '';\n",
              "        dataTable['output_type'] = 'display_data';\n",
              "        await google.colab.output.renderOutput(dataTable, element);\n",
              "        const docLink = document.createElement('div');\n",
              "        docLink.innerHTML = docLinkHtml;\n",
              "        element.appendChild(docLink);\n",
              "      }\n",
              "    </script>\n",
              "  </div>\n",
              "\n",
              "    </div>\n",
              "  </div>\n"
            ]
          },
          "metadata": {},
          "execution_count": 10
        }
      ]
    },
    {
      "cell_type": "code",
      "source": [
        "date_formatted = datetime.strftime(fecha,'%d %b %Y')"
      ],
      "metadata": {
        "id": "xU_WN6eABy96"
      },
      "execution_count": null,
      "outputs": []
    },
    {
      "cell_type": "code",
      "source": [
        "date_formatted"
      ],
      "metadata": {
        "colab": {
          "base_uri": "https://localhost:8080/",
          "height": 36
        },
        "id": "OZ8MWRw9Chzn",
        "outputId": "2957a5b7-eadf-46f8-e6ff-f845fbf83fd9"
      },
      "execution_count": null,
      "outputs": [
        {
          "output_type": "execute_result",
          "data": {
            "text/plain": [
              "'01 Jan 2012'"
            ],
            "application/vnd.google.colaboratory.intrinsic+json": {
              "type": "string"
            }
          },
          "metadata": {},
          "execution_count": 40
        }
      ]
    },
    {
      "cell_type": "code",
      "source": [
        "avg_prec[:]"
      ],
      "metadata": {
        "id": "h6QO7W0ECjpx"
      },
      "execution_count": null,
      "outputs": []
    },
    {
      "cell_type": "markdown",
      "source": [
        "Creación de DataFrame con indice temporal"
      ],
      "metadata": {
        "id": "Yzb4rQot0htV"
      }
    },
    {
      "cell_type": "code",
      "source": [
        "idx = pd.DatetimeIndex([\"\"])\n",
        "df=pd.DataFrame(columns=['Precipitacion_promedio'],index=idx)\n",
        "df\n"
      ],
      "metadata": {
        "id": "BXmbG5fGIlUu"
      },
      "execution_count": null,
      "outputs": []
    },
    {
      "cell_type": "markdown",
      "source": [
        "tu código (mi versión):"
      ],
      "metadata": {
        "id": "O1UWHSnd0pYl"
      }
    },
    {
      "cell_type": "code",
      "source": [
        "for arch in archivos:\n",
        "    try:\n",
        "        print(arch)\n",
        "        data = Dataset(arch)\n",
        "        fecha = datetime.strptime(data.getncattr('start_time'), '%Y-%m-%dT%H:%M:%SZ')\n",
        "        date_formatted = datetime.strftime(fecha,'%d %b %Y')\n",
        "        avg_prec = data.variables['TRMM_3B42_Daily_7_precipitation']\n",
        "        new_row = {\"Fecha\": date_formatted, \"Precipitacion_promedio\": avg_prec}\n",
        "        df1=pd.DataFrame(({\"Precipitacion_promedio\": avg_prec}),index=pd.DatetimeIndex([date_formatted]))\n",
        "        df=df.append(df1)\n",
        "    except KeyError:\n",
        "        key_error.append(arch)\n",
        "    except OSError:\n",
        "        os_error.append(arch)\n",
        "    except RuntimeError:\n",
        "        runtime_error.append(arch)"
      ],
      "metadata": {
        "id": "lOO6OBp40oTD"
      },
      "execution_count": null,
      "outputs": []
    }
  ]
}