{
  "nbformat": 4,
  "nbformat_minor": 0,
  "metadata": {
    "colab": {
      "provenance": [],
      "authorship_tag": "ABX9TyPn/kBvn9sLNSP3o7Joq1o2",
      "include_colab_link": true
    },
    "kernelspec": {
      "name": "python3",
      "display_name": "Python 3"
    },
    "language_info": {
      "name": "python"
    }
  },
  "cells": [
    {
      "cell_type": "markdown",
      "metadata": {
        "id": "view-in-github",
        "colab_type": "text"
      },
      "source": [
        "<a href=\"https://colab.research.google.com/github/Edersao/Atmosf-ricos/blob/main/Grace_Merida.ipynb\" target=\"_parent\"><img src=\"https://colab.research.google.com/assets/colab-badge.svg\" alt=\"Open In Colab\"/></a>"
      ]
    },
    {
      "cell_type": "markdown",
      "source": [
        "# Lectura de datos NetCDF del satelite Grace."
      ],
      "metadata": {
        "id": "23GhS63aHz5v"
      }
    },
    {
      "cell_type": "code",
      "execution_count": 1,
      "metadata": {
        "id": "swQ5UyDdo5jr",
        "colab": {
          "base_uri": "https://localhost:8080/"
        },
        "outputId": "978090d0-cd31-4423-97ce-07f9af2b3125"
      },
      "outputs": [
        {
          "output_type": "stream",
          "name": "stdout",
          "text": [
            "Mounted at /content/drive\n"
          ]
        }
      ],
      "source": [
        "from google.colab import drive\n",
        "drive.mount('/content/drive')"
      ]
    },
    {
      "cell_type": "code",
      "source": [
        "!pip install netCDF4\n",
        "# paqueterias a utilizar\n",
        "######\n",
        "#!pip show mpl_toolkits.basemap # para ver si estan instaladas en Colab\n",
        "#!pip install mpl_toolkits.basemap\n",
        "!pip install basemap\n",
        "#!pip show matplotlib.pyplot\n",
        "#!pip install matplotlib.pyplot # según esto es la misma paquetería que matplotlib\n",
        "#datetime\n",
        "!pip install datetime"
      ],
      "metadata": {
        "id": "WfnNyOrvo7qB"
      },
      "execution_count": null,
      "outputs": []
    },
    {
      "cell_type": "markdown",
      "source": [
        "Lectura de datos netCDF y paqueterias:"
      ],
      "metadata": {
        "id": "6_50b1wupasr"
      }
    },
    {
      "cell_type": "code",
      "source": [
        "#import netCDF4 as nc\n",
        "from netCDF4 import Dataset\n",
        "import datetime as dt  # Incluiremos la librería datetime\n",
        "import numpy as np\n",
        "from netCDF4 import Dataset  # http://code.google.com/p/netcdf4-python/\n",
        "import matplotlib.pyplot as plt\n",
        "%matplotlib inline\n",
        "from mpl_toolkits.basemap import Basemap, addcyclic, shiftgrid\n",
        "archivo = '/content/drive/MyDrive/Data Scientist/Ixil/Ixil/datos mensuales/2012/g4.timeAvgMap.GLDAS_CLSM025_DA1_D_2_2_GWS_tavg.20120101-20120131.90W_18N_86W_22N.nc'\n",
        "nc_fid= Dataset(archivo)"
      ],
      "metadata": {
        "id": "y0JhK2xVpKjQ"
      },
      "execution_count": 5,
      "outputs": []
    },
    {
      "cell_type": "code",
      "source": [
        "def ncdump(nc_fid, verb=True):\n",
        "    '''\n",
        "    ncdump extrae dimensiones, variables e información de atributos.\n",
        "    La información que se extrae es muy similar que usando ncdump (NCAR) .\n",
        "    ncdump requiere una instancia válida del dataset a usar.\n",
        "\n",
        "    Parámetros:\n",
        "    ----------\n",
        "    nc_fid : netCDF4.Dataset\n",
        "        A netCDF4 dateset object\n",
        "    verb : Boolean\n",
        "        whether or not nc_attrs, nc_dims, and nc_vars are printed\n",
        "\n",
        "    Returns\n",
        "    -------\n",
        "    nc_attrs : list\n",
        "        A Python list of the NetCDF file global attributes\n",
        "    nc_dims : list\n",
        "        A Python list of the NetCDF file dimensions\n",
        "    nc_vars : list\n",
        "        A Python list of the NetCDF file variables\n",
        "    '''\n",
        "    def print_ncattr(key):\n",
        "        \"\"\"\n",
        "        Prints the NetCDF file attributes for a given key\n",
        "\n",
        "        Parameters\n",
        "        ----------\n",
        "        key : unicode\n",
        "            a valid netCDF4.Dataset.variables key\n",
        "        \"\"\"\n",
        "        try:\n",
        "            print (\"\\t\\ttype:\", repr(nc_fid.variables[key].dtype))\n",
        "            for ncattr in nc_fid.variables[key].ncattrs():\n",
        "                print ('\\t\\t%s:' % ncattr,\\\n",
        "                      repr(nc_fid.variables[key].getncattr(ncattr)))\n",
        "        except KeyError:\n",
        "            print (\"\\t\\tWARNING: %s does not contain variable attributes\" % key)\n",
        "\n",
        "    # Atributos globales del archivo NetCDF\n",
        "    nc_attrs = nc_fid.ncattrs()\n",
        "    if verb:\n",
        "        print (\"NetCDF Global Attributes:\")\n",
        "        for nc_attr in nc_attrs:\n",
        "            print ('\\t%s:' % nc_attr, repr(nc_fid.getncattr(nc_attr)))\n",
        "    nc_dims = [dim for dim in nc_fid.dimensions]  # list of nc dimensions\n",
        "    # información geoespacial.\n",
        "    if verb:\n",
        "        print (\"NetCDF dimension information:\")\n",
        "        for dim in nc_dims:\n",
        "            print (\"\\tName:\", dim )\n",
        "            print (\"\\t\\tsize:\", len(nc_fid.dimensions[dim]))\n",
        "            print_ncattr(dim)\n",
        "    # Información de variables.\n",
        "    nc_vars = [var for var in nc_fid.variables]  # list of nc variables\n",
        "    if verb:\n",
        "        print (\"NetCDF variable information:\")\n",
        "        for var in nc_vars:\n",
        "            if var not in nc_dims:\n",
        "                print ('\\tName:', var)\n",
        "                print (\"\\t\\tdimensions:\", nc_fid.variables[var].dimensions)\n",
        "                print (\"\\t\\tsize:\", nc_fid.variables[var].size)\n",
        "                print_ncattr(var)\n",
        "    return nc_attrs, nc_dims, nc_vars\n",
        "\n",
        "\n",
        "                             # y crearemos la instancia del tipo ncCDF4\n",
        "nc_attrs, nc_dims, nc_vars = ncdump(nc_fid)"
      ],
      "metadata": {
        "id": "jMBlpIBHrLF5"
      },
      "execution_count": null,
      "outputs": []
    },
    {
      "cell_type": "markdown",
      "source": [
        "Vemos los nombres de las variables que tiene el archivo"
      ],
      "metadata": {
        "id": "xzECnXQB29PQ"
      }
    },
    {
      "cell_type": "code",
      "source": [
        "nc_fid.variables.keys()"
      ],
      "metadata": {
        "colab": {
          "base_uri": "https://localhost:8080/"
        },
        "id": "vtCcTMEryr5z",
        "outputId": "ff15aa22-b09b-4dc8-be42-847d34c2b42d"
      },
      "execution_count": 18,
      "outputs": [
        {
          "output_type": "execute_result",
          "data": {
            "text/plain": [
              "dict_keys(['GLDAS_CLSM025_DA1_D_2_2_GWS_tavg', 'lat', 'lat_bnds', 'lon', 'lon_bnds'])"
            ]
          },
          "metadata": {},
          "execution_count": 18
        }
      ]
    },
    {
      "cell_type": "markdown",
      "source": [
        "Para observar las dinsiones de cada una de las variables"
      ],
      "metadata": {
        "id": "RqH9bGc23HW7"
      }
    },
    {
      "cell_type": "code",
      "source": [
        "for d in nc_fid.dimensions.items():\n",
        "  print(d)"
      ],
      "metadata": {
        "colab": {
          "base_uri": "https://localhost:8080/"
        },
        "id": "WFR3xXaov3yd",
        "outputId": "e3da84a5-b000-43e8-a0b2-907c6cd71d37"
      },
      "execution_count": 20,
      "outputs": [
        {
          "output_type": "stream",
          "name": "stdout",
          "text": [
            "('lat', <class 'netCDF4._netCDF4.Dimension'>: name = 'lat', size = 15)\n",
            "('lon', <class 'netCDF4._netCDF4.Dimension'>: name = 'lon', size = 15)\n",
            "('latv', <class 'netCDF4._netCDF4.Dimension'>: name = 'latv', size = 2)\n",
            "('lonv', <class 'netCDF4._netCDF4.Dimension'>: name = 'lonv', size = 2)\n"
          ]
        }
      ]
    },
    {
      "cell_type": "markdown",
      "source": [
        "Vamos a ver los datos mensuales del archivo"
      ],
      "metadata": {
        "id": "rBMNRaoA2sWX"
      }
    },
    {
      "cell_type": "code",
      "source": [
        "mens_grace=nc_fid.variables['GLDAS_CLSM025_DA1_D_2_2_GWS_tavg']\n",
        "print(mens_grace)"
      ],
      "metadata": {
        "id": "T1ECUUfj2feV"
      },
      "execution_count": null,
      "outputs": []
    },
    {
      "cell_type": "code",
      "source": [
        "print('dimensiones: ',mens_grace.dimensions,'shape:',mens_grace.shape,sep='\\n')"
      ],
      "metadata": {
        "colab": {
          "base_uri": "https://localhost:8080/"
        },
        "id": "vmBaPGoh3Zbh",
        "outputId": "eca66f7f-a4f5-4a0f-fc68-3f142b3e8730"
      },
      "execution_count": 28,
      "outputs": [
        {
          "output_type": "stream",
          "name": "stdout",
          "text": [
            "dimensiones: \n",
            "('lat', 'lon')\n",
            "shape:\n",
            "(15, 15)\n"
          ]
        }
      ]
    },
    {
      "cell_type": "markdown",
      "source": [
        "el tiempo del archivo"
      ],
      "metadata": {
        "id": "nLZY3l_9ADCi"
      }
    },
    {
      "cell_type": "code",
      "source": [
        "#dt.datetime.fromisoformat(nc_fid.getncattr(nc_attrs[1]))\n",
        "#di=dt.datetime.fromisoformat(nc_fid.getncattr(nc_attrs[1])[:-1] + '+00:00')\n",
        "di = dt.datetime.fromisoformat(\n",
        "    nc_fid.getncattr(nc_attrs[1])[:-1]).astimezone(dt.timezone.utc)\n",
        "df = dt.datetime.fromisoformat(\n",
        "    nc_fid.getncattr(nc_attrs[2])[:-1]).astimezone(dt.timezone.utc)\n",
        "print('día de inicio:',di.strftime('%Y-%m-%d %H:%M:%S'),'día final:',df.strftime('%Y-%m-%d %H:%M:%S'))\n"
      ],
      "metadata": {
        "colab": {
          "base_uri": "https://localhost:8080/"
        },
        "id": "AUC9Nays5sCW",
        "outputId": "f886a896-5718-48b6-fe36-4f74d077ef87"
      },
      "execution_count": 51,
      "outputs": [
        {
          "output_type": "stream",
          "name": "stdout",
          "text": [
            "día de inicio: 2012-01-01 00:00:00 día final: 2012-02-01 00:00:00\n"
          ]
        }
      ]
    },
    {
      "cell_type": "markdown",
      "source": [
        "# Intento de gráfica"
      ],
      "metadata": {
        "id": "KvJQwmYaA_8t"
      }
    },
    {
      "cell_type": "markdown",
      "source": [
        "primero extraemos los datos"
      ],
      "metadata": {
        "id": "2b2JtH5KBGiO"
      }
    },
    {
      "cell_type": "code",
      "source": [
        "nc_fid.ncattrs()\n",
        "nc_fid.getncattr('plot_hint_title')"
      ],
      "metadata": {
        "colab": {
          "base_uri": "https://localhost:8080/",
          "height": 35
        },
        "id": "ai1oVhH0FWOw",
        "outputId": "38d6ac80-d107-4d54-8270-e14346b23850"
      },
      "execution_count": 89,
      "outputs": [
        {
          "output_type": "execute_result",
          "data": {
            "text/plain": [
              "'Time Averaged Map of Ground water storage daily 0.25 deg. [GLDAS Model GLDAS_CLSM025_DA1_D v2.2] mm'"
            ],
            "application/vnd.google.colaboratory.intrinsic+json": {
              "type": "string"
            }
          },
          "metadata": {},
          "execution_count": 89
        }
      ]
    },
    {
      "cell_type": "code",
      "source": [
        "data = mens_grace[:]\n",
        "unidad = mens_grace.getncattr('units')\n",
        "lat = nc_fid.variables['lat'][:]\n",
        "lon = nc_fid.variables['lon'][:]\n",
        "\n",
        "m = Basemap(projection='merc',llcrnrlat=15,urcrnrlat=25,\\\n",
        "            llcrnrlon=-92,urcrnrlon=-86,lat_ts=10,resolution='c')\n",
        "m.drawcoastlines()\n",
        "#m.fillcontinents(color='coral',lake_color='aqua')\n",
        "#m.drawmapboundary(fill_color='aqua')\n",
        "my_cmap=plt.cm.get_cmap('gist_rainbow')\n",
        "my_cmap.set_under('w')\n",
        "x, y = m(lon, lat)\n",
        "m.pcolormesh(x, y, data)\n",
        "cb = m.colorbar()\n",
        "cb.set_label(unidad)\n",
        "plt.title(nc_fid.getncattr('plot_hint_title'))"
      ],
      "metadata": {
        "colab": {
          "base_uri": "https://localhost:8080/",
          "height": 500
        },
        "id": "c4EiYu-NsRGS",
        "outputId": "f0b535b2-3fb0-4094-b5cb-6db977223f13"
      },
      "execution_count": 90,
      "outputs": [
        {
          "output_type": "stream",
          "name": "stderr",
          "text": [
            "<ipython-input-90-ff6fee511073>:11: MatplotlibDeprecationWarning: The get_cmap function was deprecated in Matplotlib 3.7 and will be removed two minor releases later. Use ``matplotlib.colormaps[name]`` or ``matplotlib.colormaps.get_cmap(obj)`` instead.\n",
            "  my_cmap=plt.cm.get_cmap('gist_rainbow')\n"
          ]
        },
        {
          "output_type": "execute_result",
          "data": {
            "text/plain": [
              "Text(0.5, 1.0, 'Time Averaged Map of Ground water storage daily 0.25 deg. [GLDAS Model GLDAS_CLSM025_DA1_D v2.2] mm')"
            ]
          },
          "metadata": {},
          "execution_count": 90
        },
        {
          "output_type": "display_data",
          "data": {
            "text/plain": [
              "<Figure size 640x480 with 2 Axes>"
            ],
            "image/png": "[encoded data removed]"
          },
          "metadata": {}
        }
      ]
    },
    {
      "cell_type": "markdown",
      "source": [],
      "metadata": {
        "id": "u7l6s7skA_Si"
      }
    },
    {
      "cell_type": "markdown",
      "source": [
        "mpl_toolkits.basemap"
      ],
      "metadata": {
        "id": "fl45fg8Oq3_Z"
      }
    }
  ]
}